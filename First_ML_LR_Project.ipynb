{
  "nbformat": 4,
  "nbformat_minor": 0,
  "metadata": {
    "colab": {
      "provenance": [],
      "collapsed_sections": [
        "QsJViaA5urOu",
        "_Tml9vBRvVuD",
        "bCaR_yFUvxQH",
        "Ah32m9uGv05d",
        "BLanZjJ2v41h"
      ],
      "mount_file_id": "1mX4BcOu07KCo_tXINa2PTpsFa2YEBwmY",
      "authorship_tag": "ABX9TyN66iqa6jagdVuYa0t799kC",
      "include_colab_link": true
    },
    "kernelspec": {
      "name": "python3",
      "display_name": "Python 3"
    },
    "language_info": {
      "name": "python"
    }
  },
  "cells": [
    {
      "cell_type": "markdown",
      "metadata": {
        "id": "view-in-github",
        "colab_type": "text"
      },
      "source": [
        "<a href=\"https://colab.research.google.com/github/majharuli0/first-linear_regression_model/blob/main/First_ML_LR_Project.ipynb\" target=\"_parent\"><img src=\"https://colab.research.google.com/assets/colab-badge.svg\" alt=\"Open In Colab\"/></a>"
      ]
    },
    {
      "cell_type": "markdown",
      "source": [
        "# First ML Project"
      ],
      "metadata": {
        "id": "QLIvg-jcr7LS"
      }
    },
    {
      "cell_type": "markdown",
      "source": [
        "# Load Data"
      ],
      "metadata": {
        "id": "uwamP_GEtGC-"
      }
    },
    {
      "cell_type": "code",
      "source": [
        "import pandas as pd\n",
        "data = pd.read_csv('/content/house_pricing.csv')"
      ],
      "metadata": {
        "id": "WrpNJf3Jr_Rl"
      },
      "execution_count": null,
      "outputs": []
    },
    {
      "cell_type": "markdown",
      "source": [
        "# Data Preparation"
      ],
      "metadata": {
        "id": "G2w_6izVr58K"
      }
    },
    {
      "cell_type": "markdown",
      "source": [
        "## Feature Engineering"
      ],
      "metadata": {
        "id": "QsJViaA5urOu"
      }
    },
    {
      "cell_type": "code",
      "source": [
        "import numpy as np\n",
        "from sklearn.preprocessing import StandardScaler"
      ],
      "metadata": {
        "id": "3oM6hC41usVg"
      },
      "execution_count": null,
      "outputs": []
    },
    {
      "cell_type": "markdown",
      "source": [
        "### a. Create new features based on existing ones."
      ],
      "metadata": {
        "id": "JpmYzftOuylX"
      }
    },
    {
      "cell_type": "code",
      "source": [
        "print(\"Original Data Shape:\", data.shape)\n",
        "data['bedrooms_per_bathroom'] = data['bedrooms'] / data['bathrooms'].replace(0, 1) # Avoid division by zero\n",
        "data['sqft_living_squared'] = data['sqft_living'] ** 2"
      ],
      "metadata": {
        "colab": {
          "base_uri": "https://localhost:8080/"
        },
        "id": "fWcqZcpRu2bl",
        "outputId": "aba69077-4d17-4846-f349-bbfc2114bf9f"
      },
      "execution_count": null,
      "outputs": [
        {
          "output_type": "stream",
          "name": "stdout",
          "text": [
            "Original Data Shape: (4600, 18)\n"
          ]
        }
      ]
    },
    {
      "cell_type": "markdown",
      "source": [
        "### b. Create a categorical feature 'houseType' based on 'sqft_living'."
      ],
      "metadata": {
        "id": "X5Z4Zp1qvBPI"
      }
    },
    {
      "cell_type": "code",
      "source": [
        "def assign_house_type(sqft):\n",
        "    if sqft < 1500:\n",
        "        return 'Small'\n",
        "    elif 1500 <= sqft < 1901:\n",
        "        return 'Medium'\n",
        "    else:\n",
        "        return 'Large'\n",
        "data['houseType'] = data['sqft_living'].apply(assign_house_type)"
      ],
      "metadata": {
        "id": "pOTGCatvvGBb"
      },
      "execution_count": null,
      "outputs": []
    },
    {
      "cell_type": "markdown",
      "source": [
        "### c. Log-transform the 'price' feature."
      ],
      "metadata": {
        "id": "YJoeis_WvJR1"
      }
    },
    {
      "cell_type": "code",
      "source": [
        "data['log_price'] = np.log1p(data['price'])"
      ],
      "metadata": {
        "id": "DK0sw4FpvdHT"
      },
      "execution_count": null,
      "outputs": []
    },
    {
      "cell_type": "markdown",
      "source": [
        "## 2. Data Cleaning"
      ],
      "metadata": {
        "id": "_Tml9vBRvVuD"
      }
    },
    {
      "cell_type": "markdown",
      "source": [
        "### a. Remove rows with invalid prices (price <= 0)."
      ],
      "metadata": {
        "id": "eRfLSjFdvmdX"
      }
    },
    {
      "cell_type": "code",
      "source": [
        "data = data[data['price'] > 0]\n",
        "print(\"Rows after removing price <= 0:\", len(data))"
      ],
      "metadata": {
        "colab": {
          "base_uri": "https://localhost:8080/"
        },
        "id": "_arIz2mKvh1l",
        "outputId": "91bc303d-6734-401b-e2cb-2a66df59579f"
      },
      "execution_count": null,
      "outputs": [
        {
          "output_type": "stream",
          "name": "stdout",
          "text": [
            "Rows after removing price <= 0: 4551\n"
          ]
        }
      ]
    },
    {
      "cell_type": "markdown",
      "source": [
        "### b. Group less frequent cities into an 'Other' category."
      ],
      "metadata": {
        "id": "kxQpMYF_voMR"
      }
    },
    {
      "cell_type": "code",
      "source": [
        "top_cities = data['city'].value_counts().index[:20]\n",
        "data['city'] = data['city'].where(data['city'].isin(top_cities), 'Other')"
      ],
      "metadata": {
        "id": "IOY_d7kUvqjK"
      },
      "execution_count": null,
      "outputs": []
    },
    {
      "cell_type": "markdown",
      "source": [
        "## 3. Data Preparation for Modeling"
      ],
      "metadata": {
        "id": "bCaR_yFUvxQH"
      }
    },
    {
      "cell_type": "markdown",
      "source": [
        "### a. Define features (X) and target (y)."
      ],
      "metadata": {
        "id": "Ah32m9uGv05d"
      }
    },
    {
      "cell_type": "code",
      "source": [
        "numerical_features = ['bedrooms', 'sqft_living', 'bathrooms', 'floors', 'condition', 'view', 'waterfront', 'yr_built', 'sqft_living_squared']\n",
        "categorical_features = ['city','houseType']\n",
        "X = data[numerical_features + categorical_features]\n",
        "y = data['log_price']"
      ],
      "metadata": {
        "id": "4O-bSHNNvyYx"
      },
      "execution_count": null,
      "outputs": []
    },
    {
      "cell_type": "markdown",
      "source": [
        "### b. Remove outliers based on the log-transformed price."
      ],
      "metadata": {
        "id": "BLanZjJ2v41h"
      }
    },
    {
      "cell_type": "code",
      "source": [
        "log_price_threshold = y.quantile(0.97)\n",
        "data = data[y <= log_price_threshold] # Filter data\n",
        "X = X[y <= log_price_threshold]       # Filter features accordingly\n",
        "y = y[y <= log_price_threshold]       # Filter target accordingly"
      ],
      "metadata": {
        "id": "LKvl7emAv8kF"
      },
      "execution_count": null,
      "outputs": []
    },
    {
      "cell_type": "markdown",
      "source": [
        "### c. Remove rows with unusual values in numerical features."
      ],
      "metadata": {
        "id": "vRo-ui3Ev_e_"
      }
    },
    {
      "cell_type": "code",
      "source": [
        "X = X[(X['bathrooms'] >= 1) & (X['view'] >= 0) & (X['condition'].isin([1, 2, 3, 4, 5])) & (X['sqft_living'] <= X['sqft_living'].quantile(0.99))]\n",
        "y = y[X.index] # Align target with filtered features"
      ],
      "metadata": {
        "id": "k6sb_tR6wD7v"
      },
      "execution_count": null,
      "outputs": []
    },
    {
      "cell_type": "markdown",
      "source": [
        "###  d. One-hot encode categorical features using pandas get_dummies"
      ],
      "metadata": {
        "id": "ed8ckR8hwGF7"
      }
    },
    {
      "cell_type": "code",
      "source": [
        "X = pd.get_dummies(X, columns=categorical_features, drop_first=True)"
      ],
      "metadata": {
        "id": "jR9DfDsHwJoR"
      },
      "execution_count": null,
      "outputs": []
    },
    {
      "cell_type": "markdown",
      "source": [
        "### e. Scale numerical features using StandardScaler."
      ],
      "metadata": {
        "id": "mfD09IrRwPZf"
      }
    },
    {
      "cell_type": "code",
      "source": [
        "scaler = StandardScaler()\n",
        "X_scaled = X.copy()  # Create a copy to avoid modifying the original DataFrame\n",
        "X_scaled[numerical_features] = scaler.fit_transform(X[numerical_features])\n",
        "X_scaled = pd.DataFrame(X_scaled, columns=X_scaled.columns) # Convert back to DataFrame"
      ],
      "metadata": {
        "id": "XAl1NRIIwQdp"
      },
      "execution_count": null,
      "outputs": []
    },
    {
      "cell_type": "markdown",
      "source": [
        "## Display the first few rows of the scaled data"
      ],
      "metadata": {
        "id": "a0_3vfjTwWmN"
      }
    },
    {
      "cell_type": "code",
      "source": [
        "X = X_scaled\n",
        "print(X_scaled.head())"
      ],
      "metadata": {
        "colab": {
          "base_uri": "https://localhost:8080/"
        },
        "id": "BqAkScuMwYfd",
        "outputId": "1b41fe2f-6e5c-44b3-893a-1788a76ea128"
      },
      "execution_count": null,
      "outputs": [
        {
          "output_type": "stream",
          "name": "stdout",
          "text": [
            "   bedrooms  sqft_living  bathrooms    floors  condition      view  \\\n",
            "0 -0.418852    -0.892505  -0.856406  0.002568  -0.664676 -0.276164   \n",
            "2 -0.418852    -0.138664  -0.149650 -0.928898   0.824089 -0.276164   \n",
            "3 -0.418852    -0.049225   0.203728 -0.928898   0.824089 -0.276164   \n",
            "4  0.726869    -0.125887   0.557107 -0.928898   0.824089 -0.276164   \n",
            "5 -1.564573    -1.480245  -1.563163 -0.928898  -0.664676 -0.276164   \n",
            "\n",
            "   waterfront  yr_built  sqft_living_squared  city_Bellevue  ...  city_Other  \\\n",
            "0   -0.064445 -0.531948            -0.811107          False  ...       False   \n",
            "2   -0.064445 -0.160353            -0.284666          False  ...       False   \n",
            "3   -0.064445 -0.261697            -0.209601           True  ...       False   \n",
            "4   -0.064445  0.177461            -0.274106          False  ...       False   \n",
            "5   -0.064445 -1.106231            -1.089758          False  ...       False   \n",
            "\n",
            "   city_Redmond  city_Renton  city_Sammamish  city_Seattle  city_Shoreline  \\\n",
            "0         False        False           False         False            True   \n",
            "2         False        False           False         False           False   \n",
            "3         False        False           False         False           False   \n",
            "4          True        False           False         False           False   \n",
            "5         False        False           False          True           False   \n",
            "\n",
            "   city_Snoqualmie  city_Woodinville  houseType_Medium  houseType_Small  \n",
            "0            False             False             False             True  \n",
            "2            False             False             False            False  \n",
            "3            False             False             False            False  \n",
            "4            False             False             False            False  \n",
            "5            False             False             False             True  \n",
            "\n",
            "[5 rows x 31 columns]\n"
          ]
        }
      ]
    },
    {
      "cell_type": "code",
      "source": [],
      "metadata": {
        "id": "Hja24MCownfT"
      },
      "execution_count": null,
      "outputs": []
    },
    {
      "cell_type": "markdown",
      "source": [
        "## Data Spliting"
      ],
      "metadata": {
        "id": "y_ddvcAJxOaD"
      }
    },
    {
      "cell_type": "code",
      "source": [
        "from sklearn.model_selection import train_test_split\n",
        "\n",
        "# Split the data\n",
        "X_train, X_test, y_train, y_test = train_test_split(X, y, test_size=0.2, random_state=42)\n",
        "\n",
        "# Check the shapes\n",
        "print(\"Training features shape:\", X_train.shape)  # Should be ~3680 rows\n",
        "print(\"Testing features shape:\", X_test.shape)    # Should be ~920 rows"
      ],
      "metadata": {
        "colab": {
          "base_uri": "https://localhost:8080/"
        },
        "id": "m_9-iZ7gxRYx",
        "outputId": "a20edac4-5f12-4538-b88e-ec5a50de8ed1"
      },
      "execution_count": null,
      "outputs": [
        {
          "output_type": "stream",
          "name": "stdout",
          "text": [
            "Training features shape: (3481, 31)\n",
            "Testing features shape: (871, 31)\n"
          ]
        }
      ]
    },
    {
      "cell_type": "code",
      "source": [],
      "metadata": {
        "id": "y8eaLvBoxTBL"
      },
      "execution_count": null,
      "outputs": []
    },
    {
      "cell_type": "markdown",
      "source": [
        "# Model Building"
      ],
      "metadata": {
        "id": "KQ7SV-r6xYzj"
      }
    },
    {
      "cell_type": "markdown",
      "source": [
        "## Linear Regression"
      ],
      "metadata": {
        "id": "WOA3x0ojxpXr"
      }
    },
    {
      "cell_type": "markdown",
      "source": [
        "### Training the Model"
      ],
      "metadata": {
        "id": "JkOD7JC0x8R5"
      }
    },
    {
      "cell_type": "code",
      "source": [
        "from sklearn.linear_model import LinearRegression\n",
        "\n",
        "model = LinearRegression()\n",
        "model.fit(X_train, y_train)"
      ],
      "metadata": {
        "colab": {
          "base_uri": "https://localhost:8080/"
        },
        "id": "Fp99XsC2yAZ5",
        "outputId": "278027e9-4d04-4f57-a92a-7797f6f6e72e"
      },
      "execution_count": null,
      "outputs": [
        {
          "output_type": "execute_result",
          "data": {
            "text/plain": [
              "LinearRegression()"
            ],
            "text/html": [
              "<style>#sk-container-id-2 {\n",
              "  /* Definition of color scheme common for light and dark mode */\n",
              "  --sklearn-color-text: #000;\n",
              "  --sklearn-color-text-muted: #666;\n",
              "  --sklearn-color-line: gray;\n",
              "  /* Definition of color scheme for unfitted estimators */\n",
              "  --sklearn-color-unfitted-level-0: #fff5e6;\n",
              "  --sklearn-color-unfitted-level-1: #f6e4d2;\n",
              "  --sklearn-color-unfitted-level-2: #ffe0b3;\n",
              "  --sklearn-color-unfitted-level-3: chocolate;\n",
              "  /* Definition of color scheme for fitted estimators */\n",
              "  --sklearn-color-fitted-level-0: #f0f8ff;\n",
              "  --sklearn-color-fitted-level-1: #d4ebff;\n",
              "  --sklearn-color-fitted-level-2: #b3dbfd;\n",
              "  --sklearn-color-fitted-level-3: cornflowerblue;\n",
              "\n",
              "  /* Specific color for light theme */\n",
              "  --sklearn-color-text-on-default-background: var(--sg-text-color, var(--theme-code-foreground, var(--jp-content-font-color1, black)));\n",
              "  --sklearn-color-background: var(--sg-background-color, var(--theme-background, var(--jp-layout-color0, white)));\n",
              "  --sklearn-color-border-box: var(--sg-text-color, var(--theme-code-foreground, var(--jp-content-font-color1, black)));\n",
              "  --sklearn-color-icon: #696969;\n",
              "\n",
              "  @media (prefers-color-scheme: dark) {\n",
              "    /* Redefinition of color scheme for dark theme */\n",
              "    --sklearn-color-text-on-default-background: var(--sg-text-color, var(--theme-code-foreground, var(--jp-content-font-color1, white)));\n",
              "    --sklearn-color-background: var(--sg-background-color, var(--theme-background, var(--jp-layout-color0, #111)));\n",
              "    --sklearn-color-border-box: var(--sg-text-color, var(--theme-code-foreground, var(--jp-content-font-color1, white)));\n",
              "    --sklearn-color-icon: #878787;\n",
              "  }\n",
              "}\n",
              "\n",
              "#sk-container-id-2 {\n",
              "  color: var(--sklearn-color-text);\n",
              "}\n",
              "\n",
              "#sk-container-id-2 pre {\n",
              "  padding: 0;\n",
              "}\n",
              "\n",
              "#sk-container-id-2 input.sk-hidden--visually {\n",
              "  border: 0;\n",
              "  clip: rect(1px 1px 1px 1px);\n",
              "  clip: rect(1px, 1px, 1px, 1px);\n",
              "  height: 1px;\n",
              "  margin: -1px;\n",
              "  overflow: hidden;\n",
              "  padding: 0;\n",
              "  position: absolute;\n",
              "  width: 1px;\n",
              "}\n",
              "\n",
              "#sk-container-id-2 div.sk-dashed-wrapped {\n",
              "  border: 1px dashed var(--sklearn-color-line);\n",
              "  margin: 0 0.4em 0.5em 0.4em;\n",
              "  box-sizing: border-box;\n",
              "  padding-bottom: 0.4em;\n",
              "  background-color: var(--sklearn-color-background);\n",
              "}\n",
              "\n",
              "#sk-container-id-2 div.sk-container {\n",
              "  /* jupyter's `normalize.less` sets `[hidden] { display: none; }`\n",
              "     but bootstrap.min.css set `[hidden] { display: none !important; }`\n",
              "     so we also need the `!important` here to be able to override the\n",
              "     default hidden behavior on the sphinx rendered scikit-learn.org.\n",
              "     See: https://github.com/scikit-learn/scikit-learn/issues/21755 */\n",
              "  display: inline-block !important;\n",
              "  position: relative;\n",
              "}\n",
              "\n",
              "#sk-container-id-2 div.sk-text-repr-fallback {\n",
              "  display: none;\n",
              "}\n",
              "\n",
              "div.sk-parallel-item,\n",
              "div.sk-serial,\n",
              "div.sk-item {\n",
              "  /* draw centered vertical line to link estimators */\n",
              "  background-image: linear-gradient(var(--sklearn-color-text-on-default-background), var(--sklearn-color-text-on-default-background));\n",
              "  background-size: 2px 100%;\n",
              "  background-repeat: no-repeat;\n",
              "  background-position: center center;\n",
              "}\n",
              "\n",
              "/* Parallel-specific style estimator block */\n",
              "\n",
              "#sk-container-id-2 div.sk-parallel-item::after {\n",
              "  content: \"\";\n",
              "  width: 100%;\n",
              "  border-bottom: 2px solid var(--sklearn-color-text-on-default-background);\n",
              "  flex-grow: 1;\n",
              "}\n",
              "\n",
              "#sk-container-id-2 div.sk-parallel {\n",
              "  display: flex;\n",
              "  align-items: stretch;\n",
              "  justify-content: center;\n",
              "  background-color: var(--sklearn-color-background);\n",
              "  position: relative;\n",
              "}\n",
              "\n",
              "#sk-container-id-2 div.sk-parallel-item {\n",
              "  display: flex;\n",
              "  flex-direction: column;\n",
              "}\n",
              "\n",
              "#sk-container-id-2 div.sk-parallel-item:first-child::after {\n",
              "  align-self: flex-end;\n",
              "  width: 50%;\n",
              "}\n",
              "\n",
              "#sk-container-id-2 div.sk-parallel-item:last-child::after {\n",
              "  align-self: flex-start;\n",
              "  width: 50%;\n",
              "}\n",
              "\n",
              "#sk-container-id-2 div.sk-parallel-item:only-child::after {\n",
              "  width: 0;\n",
              "}\n",
              "\n",
              "/* Serial-specific style estimator block */\n",
              "\n",
              "#sk-container-id-2 div.sk-serial {\n",
              "  display: flex;\n",
              "  flex-direction: column;\n",
              "  align-items: center;\n",
              "  background-color: var(--sklearn-color-background);\n",
              "  padding-right: 1em;\n",
              "  padding-left: 1em;\n",
              "}\n",
              "\n",
              "\n",
              "/* Toggleable style: style used for estimator/Pipeline/ColumnTransformer box that is\n",
              "clickable and can be expanded/collapsed.\n",
              "- Pipeline and ColumnTransformer use this feature and define the default style\n",
              "- Estimators will overwrite some part of the style using the `sk-estimator` class\n",
              "*/\n",
              "\n",
              "/* Pipeline and ColumnTransformer style (default) */\n",
              "\n",
              "#sk-container-id-2 div.sk-toggleable {\n",
              "  /* Default theme specific background. It is overwritten whether we have a\n",
              "  specific estimator or a Pipeline/ColumnTransformer */\n",
              "  background-color: var(--sklearn-color-background);\n",
              "}\n",
              "\n",
              "/* Toggleable label */\n",
              "#sk-container-id-2 label.sk-toggleable__label {\n",
              "  cursor: pointer;\n",
              "  display: flex;\n",
              "  width: 100%;\n",
              "  margin-bottom: 0;\n",
              "  padding: 0.5em;\n",
              "  box-sizing: border-box;\n",
              "  text-align: center;\n",
              "  align-items: start;\n",
              "  justify-content: space-between;\n",
              "  gap: 0.5em;\n",
              "}\n",
              "\n",
              "#sk-container-id-2 label.sk-toggleable__label .caption {\n",
              "  font-size: 0.6rem;\n",
              "  font-weight: lighter;\n",
              "  color: var(--sklearn-color-text-muted);\n",
              "}\n",
              "\n",
              "#sk-container-id-2 label.sk-toggleable__label-arrow:before {\n",
              "  /* Arrow on the left of the label */\n",
              "  content: \"▸\";\n",
              "  float: left;\n",
              "  margin-right: 0.25em;\n",
              "  color: var(--sklearn-color-icon);\n",
              "}\n",
              "\n",
              "#sk-container-id-2 label.sk-toggleable__label-arrow:hover:before {\n",
              "  color: var(--sklearn-color-text);\n",
              "}\n",
              "\n",
              "/* Toggleable content - dropdown */\n",
              "\n",
              "#sk-container-id-2 div.sk-toggleable__content {\n",
              "  max-height: 0;\n",
              "  max-width: 0;\n",
              "  overflow: hidden;\n",
              "  text-align: left;\n",
              "  /* unfitted */\n",
              "  background-color: var(--sklearn-color-unfitted-level-0);\n",
              "}\n",
              "\n",
              "#sk-container-id-2 div.sk-toggleable__content.fitted {\n",
              "  /* fitted */\n",
              "  background-color: var(--sklearn-color-fitted-level-0);\n",
              "}\n",
              "\n",
              "#sk-container-id-2 div.sk-toggleable__content pre {\n",
              "  margin: 0.2em;\n",
              "  border-radius: 0.25em;\n",
              "  color: var(--sklearn-color-text);\n",
              "  /* unfitted */\n",
              "  background-color: var(--sklearn-color-unfitted-level-0);\n",
              "}\n",
              "\n",
              "#sk-container-id-2 div.sk-toggleable__content.fitted pre {\n",
              "  /* unfitted */\n",
              "  background-color: var(--sklearn-color-fitted-level-0);\n",
              "}\n",
              "\n",
              "#sk-container-id-2 input.sk-toggleable__control:checked~div.sk-toggleable__content {\n",
              "  /* Expand drop-down */\n",
              "  max-height: 200px;\n",
              "  max-width: 100%;\n",
              "  overflow: auto;\n",
              "}\n",
              "\n",
              "#sk-container-id-2 input.sk-toggleable__control:checked~label.sk-toggleable__label-arrow:before {\n",
              "  content: \"▾\";\n",
              "}\n",
              "\n",
              "/* Pipeline/ColumnTransformer-specific style */\n",
              "\n",
              "#sk-container-id-2 div.sk-label input.sk-toggleable__control:checked~label.sk-toggleable__label {\n",
              "  color: var(--sklearn-color-text);\n",
              "  background-color: var(--sklearn-color-unfitted-level-2);\n",
              "}\n",
              "\n",
              "#sk-container-id-2 div.sk-label.fitted input.sk-toggleable__control:checked~label.sk-toggleable__label {\n",
              "  background-color: var(--sklearn-color-fitted-level-2);\n",
              "}\n",
              "\n",
              "/* Estimator-specific style */\n",
              "\n",
              "/* Colorize estimator box */\n",
              "#sk-container-id-2 div.sk-estimator input.sk-toggleable__control:checked~label.sk-toggleable__label {\n",
              "  /* unfitted */\n",
              "  background-color: var(--sklearn-color-unfitted-level-2);\n",
              "}\n",
              "\n",
              "#sk-container-id-2 div.sk-estimator.fitted input.sk-toggleable__control:checked~label.sk-toggleable__label {\n",
              "  /* fitted */\n",
              "  background-color: var(--sklearn-color-fitted-level-2);\n",
              "}\n",
              "\n",
              "#sk-container-id-2 div.sk-label label.sk-toggleable__label,\n",
              "#sk-container-id-2 div.sk-label label {\n",
              "  /* The background is the default theme color */\n",
              "  color: var(--sklearn-color-text-on-default-background);\n",
              "}\n",
              "\n",
              "/* On hover, darken the color of the background */\n",
              "#sk-container-id-2 div.sk-label:hover label.sk-toggleable__label {\n",
              "  color: var(--sklearn-color-text);\n",
              "  background-color: var(--sklearn-color-unfitted-level-2);\n",
              "}\n",
              "\n",
              "/* Label box, darken color on hover, fitted */\n",
              "#sk-container-id-2 div.sk-label.fitted:hover label.sk-toggleable__label.fitted {\n",
              "  color: var(--sklearn-color-text);\n",
              "  background-color: var(--sklearn-color-fitted-level-2);\n",
              "}\n",
              "\n",
              "/* Estimator label */\n",
              "\n",
              "#sk-container-id-2 div.sk-label label {\n",
              "  font-family: monospace;\n",
              "  font-weight: bold;\n",
              "  display: inline-block;\n",
              "  line-height: 1.2em;\n",
              "}\n",
              "\n",
              "#sk-container-id-2 div.sk-label-container {\n",
              "  text-align: center;\n",
              "}\n",
              "\n",
              "/* Estimator-specific */\n",
              "#sk-container-id-2 div.sk-estimator {\n",
              "  font-family: monospace;\n",
              "  border: 1px dotted var(--sklearn-color-border-box);\n",
              "  border-radius: 0.25em;\n",
              "  box-sizing: border-box;\n",
              "  margin-bottom: 0.5em;\n",
              "  /* unfitted */\n",
              "  background-color: var(--sklearn-color-unfitted-level-0);\n",
              "}\n",
              "\n",
              "#sk-container-id-2 div.sk-estimator.fitted {\n",
              "  /* fitted */\n",
              "  background-color: var(--sklearn-color-fitted-level-0);\n",
              "}\n",
              "\n",
              "/* on hover */\n",
              "#sk-container-id-2 div.sk-estimator:hover {\n",
              "  /* unfitted */\n",
              "  background-color: var(--sklearn-color-unfitted-level-2);\n",
              "}\n",
              "\n",
              "#sk-container-id-2 div.sk-estimator.fitted:hover {\n",
              "  /* fitted */\n",
              "  background-color: var(--sklearn-color-fitted-level-2);\n",
              "}\n",
              "\n",
              "/* Specification for estimator info (e.g. \"i\" and \"?\") */\n",
              "\n",
              "/* Common style for \"i\" and \"?\" */\n",
              "\n",
              ".sk-estimator-doc-link,\n",
              "a:link.sk-estimator-doc-link,\n",
              "a:visited.sk-estimator-doc-link {\n",
              "  float: right;\n",
              "  font-size: smaller;\n",
              "  line-height: 1em;\n",
              "  font-family: monospace;\n",
              "  background-color: var(--sklearn-color-background);\n",
              "  border-radius: 1em;\n",
              "  height: 1em;\n",
              "  width: 1em;\n",
              "  text-decoration: none !important;\n",
              "  margin-left: 0.5em;\n",
              "  text-align: center;\n",
              "  /* unfitted */\n",
              "  border: var(--sklearn-color-unfitted-level-1) 1pt solid;\n",
              "  color: var(--sklearn-color-unfitted-level-1);\n",
              "}\n",
              "\n",
              ".sk-estimator-doc-link.fitted,\n",
              "a:link.sk-estimator-doc-link.fitted,\n",
              "a:visited.sk-estimator-doc-link.fitted {\n",
              "  /* fitted */\n",
              "  border: var(--sklearn-color-fitted-level-1) 1pt solid;\n",
              "  color: var(--sklearn-color-fitted-level-1);\n",
              "}\n",
              "\n",
              "/* On hover */\n",
              "div.sk-estimator:hover .sk-estimator-doc-link:hover,\n",
              ".sk-estimator-doc-link:hover,\n",
              "div.sk-label-container:hover .sk-estimator-doc-link:hover,\n",
              ".sk-estimator-doc-link:hover {\n",
              "  /* unfitted */\n",
              "  background-color: var(--sklearn-color-unfitted-level-3);\n",
              "  color: var(--sklearn-color-background);\n",
              "  text-decoration: none;\n",
              "}\n",
              "\n",
              "div.sk-estimator.fitted:hover .sk-estimator-doc-link.fitted:hover,\n",
              ".sk-estimator-doc-link.fitted:hover,\n",
              "div.sk-label-container:hover .sk-estimator-doc-link.fitted:hover,\n",
              ".sk-estimator-doc-link.fitted:hover {\n",
              "  /* fitted */\n",
              "  background-color: var(--sklearn-color-fitted-level-3);\n",
              "  color: var(--sklearn-color-background);\n",
              "  text-decoration: none;\n",
              "}\n",
              "\n",
              "/* Span, style for the box shown on hovering the info icon */\n",
              ".sk-estimator-doc-link span {\n",
              "  display: none;\n",
              "  z-index: 9999;\n",
              "  position: relative;\n",
              "  font-weight: normal;\n",
              "  right: .2ex;\n",
              "  padding: .5ex;\n",
              "  margin: .5ex;\n",
              "  width: min-content;\n",
              "  min-width: 20ex;\n",
              "  max-width: 50ex;\n",
              "  color: var(--sklearn-color-text);\n",
              "  box-shadow: 2pt 2pt 4pt #999;\n",
              "  /* unfitted */\n",
              "  background: var(--sklearn-color-unfitted-level-0);\n",
              "  border: .5pt solid var(--sklearn-color-unfitted-level-3);\n",
              "}\n",
              "\n",
              ".sk-estimator-doc-link.fitted span {\n",
              "  /* fitted */\n",
              "  background: var(--sklearn-color-fitted-level-0);\n",
              "  border: var(--sklearn-color-fitted-level-3);\n",
              "}\n",
              "\n",
              ".sk-estimator-doc-link:hover span {\n",
              "  display: block;\n",
              "}\n",
              "\n",
              "/* \"?\"-specific style due to the `<a>` HTML tag */\n",
              "\n",
              "#sk-container-id-2 a.estimator_doc_link {\n",
              "  float: right;\n",
              "  font-size: 1rem;\n",
              "  line-height: 1em;\n",
              "  font-family: monospace;\n",
              "  background-color: var(--sklearn-color-background);\n",
              "  border-radius: 1rem;\n",
              "  height: 1rem;\n",
              "  width: 1rem;\n",
              "  text-decoration: none;\n",
              "  /* unfitted */\n",
              "  color: var(--sklearn-color-unfitted-level-1);\n",
              "  border: var(--sklearn-color-unfitted-level-1) 1pt solid;\n",
              "}\n",
              "\n",
              "#sk-container-id-2 a.estimator_doc_link.fitted {\n",
              "  /* fitted */\n",
              "  border: var(--sklearn-color-fitted-level-1) 1pt solid;\n",
              "  color: var(--sklearn-color-fitted-level-1);\n",
              "}\n",
              "\n",
              "/* On hover */\n",
              "#sk-container-id-2 a.estimator_doc_link:hover {\n",
              "  /* unfitted */\n",
              "  background-color: var(--sklearn-color-unfitted-level-3);\n",
              "  color: var(--sklearn-color-background);\n",
              "  text-decoration: none;\n",
              "}\n",
              "\n",
              "#sk-container-id-2 a.estimator_doc_link.fitted:hover {\n",
              "  /* fitted */\n",
              "  background-color: var(--sklearn-color-fitted-level-3);\n",
              "}\n",
              "</style><div id=\"sk-container-id-2\" class=\"sk-top-container\"><div class=\"sk-text-repr-fallback\"><pre>LinearRegression()</pre><b>In a Jupyter environment, please rerun this cell to show the HTML representation or trust the notebook. <br />On GitHub, the HTML representation is unable to render, please try loading this page with nbviewer.org.</b></div><div class=\"sk-container\" hidden><div class=\"sk-item\"><div class=\"sk-estimator fitted sk-toggleable\"><input class=\"sk-toggleable__control sk-hidden--visually\" id=\"sk-estimator-id-2\" type=\"checkbox\" checked><label for=\"sk-estimator-id-2\" class=\"sk-toggleable__label fitted sk-toggleable__label-arrow\"><div><div>LinearRegression</div></div><div><a class=\"sk-estimator-doc-link fitted\" rel=\"noreferrer\" target=\"_blank\" href=\"https://scikit-learn.org/1.6/modules/generated/sklearn.linear_model.LinearRegression.html\">?<span>Documentation for LinearRegression</span></a><span class=\"sk-estimator-doc-link fitted\">i<span>Fitted</span></span></div></label><div class=\"sk-toggleable__content fitted\"><pre>LinearRegression()</pre></div> </div></div></div></div>"
            ]
          },
          "metadata": {},
          "execution_count": 59
        }
      ]
    },
    {
      "cell_type": "markdown",
      "source": [
        "### Applying the model to make prediction"
      ],
      "metadata": {
        "id": "B9Wm2AxQyBRx"
      }
    },
    {
      "cell_type": "code",
      "source": [
        "y_test_pred = model.predict(X_test)\n",
        "y_train_pred = model.predict(X_train)"
      ],
      "metadata": {
        "id": "n5aSyvw2xr8V"
      },
      "execution_count": null,
      "outputs": []
    },
    {
      "cell_type": "code",
      "source": [
        "y_test_pred"
      ],
      "metadata": {
        "colab": {
          "base_uri": "https://localhost:8080/"
        },
        "id": "RzcXWD5cxban",
        "outputId": "6a0bb97f-52b8-489d-879d-0bbcd299582f"
      },
      "execution_count": null,
      "outputs": [
        {
          "output_type": "execute_result",
          "data": {
            "text/plain": [
              "array([13.41587285, 13.45040155, 12.72948502, 13.34712454, 12.82345855,\n",
              "       12.44481316, 12.39730454, 12.62396165, 13.47505283, 13.51939724,\n",
              "       12.49877249, 13.51251373, 13.27645896, 13.28674382, 13.13629456,\n",
              "       13.50828216, 12.85205817, 13.15396084, 13.67743425, 13.57472592,\n",
              "       12.41843504, 13.12636161, 13.00764942, 13.06404258, 13.57809506,\n",
              "       12.36397191, 12.50565151, 12.93709892, 13.62984029, 12.55902578,\n",
              "       12.49595768, 13.24126428, 12.96446277, 12.49228273, 12.12202193,\n",
              "       12.79280457, 12.81336672, 12.23354932, 12.51338975, 13.90077327,\n",
              "       12.9187676 , 13.2317426 , 13.08619965, 13.23464937, 13.30014532,\n",
              "       12.64517786, 12.36775896, 13.03677046, 12.51235717, 12.04572625,\n",
              "       13.56753649, 13.59061639, 13.44357508, 12.53697076, 12.75932989,\n",
              "       13.10206543, 13.23945045, 13.24663968, 12.30295527, 13.06717388,\n",
              "       13.26532601, 12.84383647, 12.3523583 , 12.80496378, 13.80088576,\n",
              "       13.53660694, 12.96174725, 12.8936229 , 13.53320433, 12.73957711,\n",
              "       12.55601192, 13.00980219, 13.2909803 , 12.68346973, 12.56624051,\n",
              "       13.34691331, 12.92882359, 12.710302  , 12.32430636, 12.81748291,\n",
              "       12.96964195, 12.96384526, 13.61176145, 13.5278038 , 13.15709791,\n",
              "       13.28522913, 13.13595138, 12.93774382, 13.06452897, 13.11821048,\n",
              "       13.29093616, 12.71879651, 13.75077957, 13.74394277, 12.70501233,\n",
              "       13.36357014, 13.02167726, 13.25053521, 13.00121963, 13.58159676,\n",
              "       12.99790195, 13.87855699, 12.38791737, 13.03689863, 13.45340102,\n",
              "       12.56173476, 12.9306175 , 13.02508792, 13.43770044, 12.60378773,\n",
              "       12.22033117, 13.33428481, 12.66112352, 13.64722027, 13.31074255,\n",
              "       13.39205933, 12.99704862, 13.2549401 , 13.13913512, 13.71540763,\n",
              "       12.92002488, 13.01376711, 13.82311057, 12.96228097, 12.59018973,\n",
              "       12.97863854, 13.16185159, 13.00311696, 12.65622858, 13.01825934,\n",
              "       13.38556437, 13.08253658, 13.28675152, 13.71022939, 13.42336247,\n",
              "       13.43231643, 12.49229284, 13.33332105, 13.32892333, 13.07584026,\n",
              "       13.15691378, 13.52205315, 13.2622406 , 13.65470244, 13.15769259,\n",
              "       13.73599027, 13.29686574, 12.89341198, 12.69612606, 12.99041885,\n",
              "       12.43290824, 13.07431537, 12.98634833, 12.04705341, 13.56991863,\n",
              "       12.82779856, 13.17864595, 13.47172698, 13.47252058, 12.78750285,\n",
              "       12.83897413, 13.7212852 , 12.88284139, 13.23242516, 13.33126465,\n",
              "       13.04402848, 13.00700797, 13.00079999, 12.32018928, 12.86385136,\n",
              "       13.2125891 , 13.06828589, 13.67313244, 13.12324984, 13.14600113,\n",
              "       12.59140465, 12.9909909 , 13.65212832, 12.33522181, 13.16806113,\n",
              "       13.38354528, 13.19382802, 12.71664944, 13.16015922, 13.04845596,\n",
              "       13.26934579, 13.100738  , 12.917315  , 13.71751018, 13.00049546,\n",
              "       12.36749821, 13.15544468, 12.46768411, 12.91417525, 14.04150981,\n",
              "       13.44022607, 13.27006067, 13.25888942, 12.96954629, 12.95320924,\n",
              "       13.08472131, 12.67242916, 12.82550644, 12.58899383, 12.9853768 ,\n",
              "       12.74392735, 12.90177027, 12.50303717, 12.59386194, 13.54927008,\n",
              "       13.16823955, 12.98369858, 13.56198758, 12.67457553, 12.56928083,\n",
              "       12.95768077, 13.55270177, 13.10325074, 12.20401834, 13.20763403,\n",
              "       13.12137257, 12.75348113, 13.84433026, 12.73466451, 12.93402697,\n",
              "       13.21940234, 12.37039209, 12.95292314, 12.9984153 , 13.61958778,\n",
              "       12.46955415, 12.53486179, 13.01932999, 13.26227456, 13.51029952,\n",
              "       13.18828358, 12.55164691, 13.52540204, 12.28071569, 12.84883951,\n",
              "       13.00442209, 12.81762363, 12.62214286, 13.19799739, 12.66244652,\n",
              "       13.22614675, 13.2953972 , 12.93805618, 12.74821694, 12.72632081,\n",
              "       12.72572582, 13.61070609, 12.48709022, 13.89255275, 13.88582831,\n",
              "       12.68161669, 13.18965939, 12.49041081, 13.46062874, 13.58125768,\n",
              "       13.47302955, 12.33264562, 12.57882625, 13.14379301, 13.2040998 ,\n",
              "       12.94426143, 13.7188497 , 12.93352233, 13.09293433, 13.49133685,\n",
              "       13.81585189, 12.31393326, 13.00521901, 13.42156709, 12.73553575,\n",
              "       12.76044845, 13.63420922, 12.15409916, 12.31015952, 12.74731143,\n",
              "       12.6850736 , 12.92669286, 13.2332143 , 13.04794246, 12.58980393,\n",
              "       13.26892172, 13.61710722, 12.7600853 , 12.78931828, 13.54659811,\n",
              "       13.46602874, 13.28697429, 13.87986953, 12.66196508, 12.74740627,\n",
              "       13.07750667, 13.0954721 , 13.56282733, 13.68102109, 12.81347312,\n",
              "       12.9995184 , 13.20804945, 13.48286424, 13.26159701, 12.66522362,\n",
              "       13.1995136 , 13.07806235, 13.40098039, 12.59977558, 13.42471737,\n",
              "       12.56141573, 12.94120848, 13.02446953, 13.04028862, 13.27832872,\n",
              "       12.93458645, 11.95160755, 12.60792224, 12.7452415 , 13.17931062,\n",
              "       13.62731199, 12.89581755, 12.66998459, 13.36523666, 12.90612517,\n",
              "       12.97336218, 13.081918  , 13.80046224, 12.62005883, 12.96664009,\n",
              "       13.12140706, 12.66985515, 13.4040393 , 12.60992759, 13.54039457,\n",
              "       13.73206369, 13.10280352, 12.69624086, 12.95564475, 12.9142291 ,\n",
              "       12.92393979, 13.95536189, 12.75520489, 13.01517669, 13.48357945,\n",
              "       12.11609333, 12.74987224, 12.62763141, 12.58211832, 12.77104534,\n",
              "       12.87147654, 12.8272675 , 12.7267198 , 13.06840756, 13.05049536,\n",
              "       12.96814173, 12.78716153, 12.57875282, 12.55490295, 13.34467435,\n",
              "       12.83895686, 12.82915573, 13.18943263, 13.2934463 , 13.16136111,\n",
              "       12.88513808, 13.41202304, 13.02882141, 13.14559881, 13.51673983,\n",
              "       13.59893043, 13.55774452, 13.70957241, 13.11840892, 13.12181761,\n",
              "       13.45910713, 13.12638187, 12.85196848, 12.59606281, 13.44343228,\n",
              "       12.74093725, 13.00531222, 12.7091423 , 13.02454228, 13.02653448,\n",
              "       13.48052559, 12.87138305, 13.11909193, 13.357377  , 13.65588794,\n",
              "       13.01816701, 13.34619439, 12.4176052 , 12.50746466, 13.53487907,\n",
              "       12.64006247, 13.03228829, 12.69543154, 12.7604263 , 13.74909044,\n",
              "       14.0418643 , 12.69272051, 13.3754791 , 13.62461352, 12.93112185,\n",
              "       13.24054796, 12.75334048, 13.06069265, 13.23977586, 13.0135033 ,\n",
              "       12.99030077, 13.13705214, 13.05150719, 13.1862256 , 13.11981602,\n",
              "       12.69243689, 13.66950808, 13.10966339, 13.21340428, 13.43657211,\n",
              "       13.45740932, 13.20369948, 12.71501205, 12.96105268, 12.97936505,\n",
              "       12.64567957, 13.76526074, 13.58574375, 13.27600883, 13.55362806,\n",
              "       12.90908295, 12.735892  , 12.61031278, 13.71107358, 13.41391549,\n",
              "       13.02094135, 13.70200485, 13.31938564, 12.79284249, 12.62448943,\n",
              "       12.94023162, 13.63202707, 13.57620354, 13.56342642, 13.16999641,\n",
              "       13.49772574, 12.28945891, 13.00254467, 12.98474652, 13.33151224,\n",
              "       12.16775001, 12.71279526, 13.4606254 , 13.47736826, 13.22385676,\n",
              "       13.61247041, 13.01807885, 13.54738061, 12.53834287, 12.25342378,\n",
              "       13.11734562, 12.83245682, 13.31695323, 13.00742619, 13.10148115,\n",
              "       12.12592518, 13.32706093, 13.04388912, 12.8373126 , 12.61742069,\n",
              "       12.29001099, 12.56858586, 12.92789039, 12.45553914, 13.26267201,\n",
              "       13.17753065, 12.99065714, 13.07678794, 13.15580752, 12.83672329,\n",
              "       12.72121482, 13.67339955, 12.6009287 , 12.85180824, 13.32794351,\n",
              "       12.0850917 , 12.80920641, 12.48612401, 13.39295465, 13.47093095,\n",
              "       13.66787097, 13.41063465, 13.16819454, 13.4513834 , 12.46954279,\n",
              "       13.80369903, 12.97068974, 13.84085491, 12.90223279, 12.7465942 ,\n",
              "       13.41160565, 12.32689858, 13.52621459, 12.62325963, 12.56865772,\n",
              "       12.9378098 , 12.14746564, 13.05219703, 13.40641445, 13.19714336,\n",
              "       13.16038078, 13.6839968 , 14.07802269, 12.7630087 , 12.99379402,\n",
              "       12.85868987, 13.34755263, 13.13790916, 13.09366798, 13.54975532,\n",
              "       12.74521009, 13.12945793, 13.03694847, 13.52838488, 12.33413685,\n",
              "       13.7099522 , 13.26921126, 13.13183689, 13.45967574, 13.51874238,\n",
              "       13.31513449, 14.03673788, 13.05360227, 12.3105021 , 13.27607062,\n",
              "       13.01538194, 12.91451007, 13.0832351 , 13.06459259, 13.39477277,\n",
              "       13.399391  , 12.97677053, 13.55868598, 13.50476481, 12.76323731,\n",
              "       12.96117253, 12.78890616, 13.15379138, 13.37829966, 12.91688358,\n",
              "       12.92556336, 13.10443419, 13.00560326, 12.68461539, 12.9717844 ,\n",
              "       12.4221704 , 12.31818651, 12.45069262, 13.82684439, 12.6668235 ,\n",
              "       13.10061699, 13.53200133, 13.03307975, 12.57063847, 12.50569362,\n",
              "       13.58051403, 12.59803443, 13.07539545, 13.38559146, 12.58021293,\n",
              "       13.62627614, 13.0321505 , 12.49135404, 13.01499146, 13.36067328,\n",
              "       13.13936987, 13.09897601, 13.22014155, 12.28544997, 12.96964734,\n",
              "       12.96518513, 13.30382589, 13.47353833, 13.0930033 , 12.75190441,\n",
              "       13.18072458, 13.20920354, 13.27927408, 13.10943524, 12.8573294 ,\n",
              "       13.23642583, 13.27377705, 12.39793116, 12.48559376, 13.00353706,\n",
              "       13.41858773, 13.01104307, 12.7180485 , 13.5934737 , 12.80471352,\n",
              "       12.60575729, 13.35883097, 13.07578708, 13.15832686, 12.45276036,\n",
              "       12.4335278 , 13.0331264 , 12.28711254, 12.24001704, 12.12605364,\n",
              "       12.89038077, 13.17422542, 13.13458088, 13.00219019, 12.42708393,\n",
              "       12.93926116, 13.30788904, 12.97139058, 13.5120778 , 13.36450885,\n",
              "       12.87823804, 13.47720223, 12.75019383, 12.79536951, 12.80073509,\n",
              "       13.43265012, 12.62538576, 13.09791617, 13.38968795, 13.00585334,\n",
              "       12.92556336, 13.05063366, 13.08207663, 12.96276792, 13.27253121,\n",
              "       12.33368104, 13.17570259, 12.89850718, 12.51992103, 12.52310928,\n",
              "       13.10248735, 12.92312796, 12.15374484, 12.69407091, 12.68919924,\n",
              "       13.38617521, 12.37309571, 12.89172456, 12.72196535, 13.5745431 ,\n",
              "       12.45577221, 13.01661331, 13.10611579, 13.3470234 , 13.0201617 ,\n",
              "       12.50410178, 12.73971174, 13.10089375, 13.00667174, 13.31198592,\n",
              "       12.9544497 , 12.71809946, 12.48206223, 13.42667924, 12.90206714,\n",
              "       13.60450057, 13.19010577, 12.52117465, 12.84228245, 12.30679588,\n",
              "       13.57522834, 12.75801801, 12.17028209, 12.47219339, 12.85347036,\n",
              "       12.78223725, 12.46837381, 13.49483036, 13.13073445, 12.8778704 ,\n",
              "       12.52491179, 13.88176268, 12.48673666, 12.61835375, 13.56307898,\n",
              "       13.1532368 , 13.05368067, 13.29190766, 13.51705296, 13.03012391,\n",
              "       13.05913782, 13.13638115, 13.22494197, 13.92700196, 12.92291976,\n",
              "       12.60114134, 13.18855666, 12.8873215 , 13.23051216, 13.441064  ,\n",
              "       12.92691723, 12.74842015, 13.07011929, 13.27174928, 13.58999456,\n",
              "       12.58835556, 13.20569372, 12.67377502, 13.27337509, 13.70877169,\n",
              "       13.13340998, 12.85834858, 13.15461212, 13.27150479, 13.95340038,\n",
              "       12.26464511, 13.12783998, 12.80942952, 13.53434573, 13.57621049,\n",
              "       12.92331021, 13.07509528, 13.24784169, 13.13753252, 12.75718547,\n",
              "       12.54418338, 12.71144488, 12.66055968, 13.09055202, 12.56274102,\n",
              "       12.77931781, 12.04604541, 13.45991154, 12.78682283, 12.71102586,\n",
              "       12.9551819 , 13.3619223 , 13.11751072, 13.74431251, 12.83489556,\n",
              "       12.54944203, 12.8606525 , 12.32330697, 13.501734  , 13.5403681 ,\n",
              "       13.95539497, 12.93358555, 12.53054675, 12.8594011 , 13.28738127,\n",
              "       12.98722514, 13.33163211, 13.57836472, 13.00316768, 13.41578704,\n",
              "       13.367809  , 13.13825998, 13.21687506, 12.74982956, 13.02196727,\n",
              "       12.79854947, 12.52528559, 12.55085987, 12.66037866, 13.05475329,\n",
              "       13.07160204, 12.69383293, 12.53661604, 12.90512306, 14.05791301,\n",
              "       13.61511413, 13.34995282, 13.18837474, 13.41501549, 11.97271685,\n",
              "       12.414642  , 13.24284446, 12.97741511, 12.72581526, 12.70033158,\n",
              "       13.35355975, 13.29647505, 12.88554964, 13.00962965, 12.51970476,\n",
              "       13.554848  , 12.31165637, 12.33583796, 12.97453929, 12.92165998,\n",
              "       12.91588708, 12.34701064, 12.51618812, 13.00952034, 13.5932704 ,\n",
              "       12.90400711, 13.10250729, 12.91792218, 13.24162015, 13.18218436,\n",
              "       12.26638074, 13.02746949, 12.862632  , 13.10309975, 13.32365213,\n",
              "       13.18582321, 12.8991686 , 12.58727986, 12.69600086, 13.47671226,\n",
              "       13.17050144, 13.57331302, 13.21910559, 12.86515141, 13.2287994 ,\n",
              "       12.30683   , 12.52672949, 13.07876976, 13.48979922, 12.60420659,\n",
              "       13.14823332, 13.54888036, 13.09813523, 12.80304094, 13.02328538,\n",
              "       13.31243258, 12.91697472, 12.7949306 , 12.47167266, 13.44738658,\n",
              "       13.41346515, 13.48539405, 12.32935101, 13.36223389, 13.48591842,\n",
              "       12.94629056, 13.01866479, 12.73532457, 12.99193418, 13.29120197,\n",
              "       13.63534629, 13.19806711, 13.3989416 , 12.86569698, 13.20587039,\n",
              "       13.1778352 , 12.9675865 , 13.01081759, 12.86978786, 13.26407685,\n",
              "       13.1923279 , 12.74641156, 13.07970767, 13.33494556, 13.4893775 ,\n",
              "       12.63770828, 13.39474969, 13.455395  , 13.17010677, 13.0394585 ,\n",
              "       12.41054816, 13.26724206, 12.75048604, 12.29834672, 12.9258428 ,\n",
              "       13.33534443, 12.88277632, 12.93019447, 13.61370248, 13.22836411,\n",
              "       13.45699655])"
            ]
          },
          "metadata": {},
          "execution_count": 61
        }
      ]
    },
    {
      "cell_type": "code",
      "source": [
        "y_train_pred"
      ],
      "metadata": {
        "colab": {
          "base_uri": "https://localhost:8080/"
        },
        "id": "u6qaD8Mwyf6D",
        "outputId": "d957aeae-96d9-4801-be7d-6bef9f40ac5c"
      },
      "execution_count": null,
      "outputs": [
        {
          "output_type": "execute_result",
          "data": {
            "text/plain": [
              "array([12.76383   , 12.00848736, 13.17294876, ..., 12.71113651,\n",
              "       12.49877249, 13.52215301])"
            ]
          },
          "metadata": {},
          "execution_count": 62
        }
      ]
    },
    {
      "cell_type": "markdown",
      "source": [
        "### Evaluate model performance"
      ],
      "metadata": {
        "id": "Pr9qW4Jmyz59"
      }
    },
    {
      "cell_type": "code",
      "source": [
        "from sklearn.metrics import mean_squared_error, r2_score\n",
        "\n",
        "lr_test_mse = mean_squared_error(y_test, y_test_pred)\n",
        "lr_test_r2 = r2_score(y_test, y_test_pred)\n",
        "\n",
        "lr_train_mse = mean_squared_error(y_train, y_train_pred)\n",
        "lr_train_r2 = r2_score(y_train, y_train_pred)\n",
        "\n",
        "\n",
        "# print(\"Linear Regression - Test MSE:\", lr_test_mse)\n",
        "# print(\"Linear Regression - Test R2:\", lr_test_r2)\n",
        "# print(\"Linear Regression - Train MSE:\", lr_train_mse)\n",
        "# print(\"Linear Regression - Train R2:\", lr_train_r2)"
      ],
      "metadata": {
        "id": "vFklMJd1y6G1"
      },
      "execution_count": null,
      "outputs": []
    },
    {
      "cell_type": "code",
      "source": [
        "lr_result = pd.DataFrame(['Linear Regression', lr_test_mse,lr_test_r2,lr_train_mse,lr_train_r2]).transpose()\n",
        "lr_result.columns = ['Model','Test MSE','Test R2','Train MSE','Train R2']\n",
        "lr_result"
      ],
      "metadata": {
        "colab": {
          "base_uri": "https://localhost:8080/"
        },
        "id": "8XhZSxnHyxPT",
        "outputId": "390a6eb7-00aa-4f97-9fc4-34334a198f6b"
      },
      "execution_count": null,
      "outputs": [
        {
          "output_type": "execute_result",
          "data": {
            "text/plain": [
              "               Model  Test MSE   Test R2 Train MSE  Train R2\n",
              "0  Linear Regression  0.067559  0.695101  0.068764  0.700341"
            ],
            "text/html": [
              "\n",
              "  <div id=\"df-ee60fa24-c7ab-4615-bfd2-6ff5ae006395\" class=\"colab-df-container\">\n",
              "    <div>\n",
              "<style scoped>\n",
              "    .dataframe tbody tr th:only-of-type {\n",
              "        vertical-align: middle;\n",
              "    }\n",
              "\n",
              "    .dataframe tbody tr th {\n",
              "        vertical-align: top;\n",
              "    }\n",
              "\n",
              "    .dataframe thead th {\n",
              "        text-align: right;\n",
              "    }\n",
              "</style>\n",
              "<table border=\"1\" class=\"dataframe\">\n",
              "  <thead>\n",
              "    <tr style=\"text-align: right;\">\n",
              "      <th></th>\n",
              "      <th>Model</th>\n",
              "      <th>Test MSE</th>\n",
              "      <th>Test R2</th>\n",
              "      <th>Train MSE</th>\n",
              "      <th>Train R2</th>\n",
              "    </tr>\n",
              "  </thead>\n",
              "  <tbody>\n",
              "    <tr>\n",
              "      <th>0</th>\n",
              "      <td>Linear Regression</td>\n",
              "      <td>0.067559</td>\n",
              "      <td>0.695101</td>\n",
              "      <td>0.068764</td>\n",
              "      <td>0.700341</td>\n",
              "    </tr>\n",
              "  </tbody>\n",
              "</table>\n",
              "</div>\n",
              "    <div class=\"colab-df-buttons\">\n",
              "\n",
              "  <div class=\"colab-df-container\">\n",
              "    <button class=\"colab-df-convert\" onclick=\"convertToInteractive('df-ee60fa24-c7ab-4615-bfd2-6ff5ae006395')\"\n",
              "            title=\"Convert this dataframe to an interactive table.\"\n",
              "            style=\"display:none;\">\n",
              "\n",
              "  <svg xmlns=\"http://www.w3.org/2000/svg\" height=\"24px\" viewBox=\"0 -960 960 960\">\n",
              "    <path d=\"M120-120v-720h720v720H120Zm60-500h600v-160H180v160Zm220 220h160v-160H400v160Zm0 220h160v-160H400v160ZM180-400h160v-160H180v160Zm440 0h160v-160H620v160ZM180-180h160v-160H180v160Zm440 0h160v-160H620v160Z\"/>\n",
              "  </svg>\n",
              "    </button>\n",
              "\n",
              "  <style>\n",
              "    .colab-df-container {\n",
              "      display:flex;\n",
              "      gap: 12px;\n",
              "    }\n",
              "\n",
              "    .colab-df-convert {\n",
              "      background-color: #E8F0FE;\n",
              "      border: none;\n",
              "      border-radius: 50%;\n",
              "      cursor: pointer;\n",
              "      display: none;\n",
              "      fill: #1967D2;\n",
              "      height: 32px;\n",
              "      padding: 0 0 0 0;\n",
              "      width: 32px;\n",
              "    }\n",
              "\n",
              "    .colab-df-convert:hover {\n",
              "      background-color: #E2EBFA;\n",
              "      box-shadow: 0px 1px 2px rgba(60, 64, 67, 0.3), 0px 1px 3px 1px rgba(60, 64, 67, 0.15);\n",
              "      fill: #174EA6;\n",
              "    }\n",
              "\n",
              "    .colab-df-buttons div {\n",
              "      margin-bottom: 4px;\n",
              "    }\n",
              "\n",
              "    [theme=dark] .colab-df-convert {\n",
              "      background-color: #3B4455;\n",
              "      fill: #D2E3FC;\n",
              "    }\n",
              "\n",
              "    [theme=dark] .colab-df-convert:hover {\n",
              "      background-color: #434B5C;\n",
              "      box-shadow: 0px 1px 3px 1px rgba(0, 0, 0, 0.15);\n",
              "      filter: drop-shadow(0px 1px 2px rgba(0, 0, 0, 0.3));\n",
              "      fill: #FFFFFF;\n",
              "    }\n",
              "  </style>\n",
              "\n",
              "    <script>\n",
              "      const buttonEl =\n",
              "        document.querySelector('#df-ee60fa24-c7ab-4615-bfd2-6ff5ae006395 button.colab-df-convert');\n",
              "      buttonEl.style.display =\n",
              "        google.colab.kernel.accessAllowed ? 'block' : 'none';\n",
              "\n",
              "      async function convertToInteractive(key) {\n",
              "        const element = document.querySelector('#df-ee60fa24-c7ab-4615-bfd2-6ff5ae006395');\n",
              "        const dataTable =\n",
              "          await google.colab.kernel.invokeFunction('convertToInteractive',\n",
              "                                                    [key], {});\n",
              "        if (!dataTable) return;\n",
              "\n",
              "        const docLinkHtml = 'Like what you see? Visit the ' +\n",
              "          '<a target=\"_blank\" href=https://colab.research.google.com/notebooks/data_table.ipynb>data table notebook</a>'\n",
              "          + ' to learn more about interactive tables.';\n",
              "        element.innerHTML = '';\n",
              "        dataTable['output_type'] = 'display_data';\n",
              "        await google.colab.output.renderOutput(dataTable, element);\n",
              "        const docLink = document.createElement('div');\n",
              "        docLink.innerHTML = docLinkHtml;\n",
              "        element.appendChild(docLink);\n",
              "      }\n",
              "    </script>\n",
              "  </div>\n",
              "\n",
              "\n",
              "  <div id=\"id_e712799d-8f75-4136-b7cf-fea0594f7f48\">\n",
              "    <style>\n",
              "      .colab-df-generate {\n",
              "        background-color: #E8F0FE;\n",
              "        border: none;\n",
              "        border-radius: 50%;\n",
              "        cursor: pointer;\n",
              "        display: none;\n",
              "        fill: #1967D2;\n",
              "        height: 32px;\n",
              "        padding: 0 0 0 0;\n",
              "        width: 32px;\n",
              "      }\n",
              "\n",
              "      .colab-df-generate:hover {\n",
              "        background-color: #E2EBFA;\n",
              "        box-shadow: 0px 1px 2px rgba(60, 64, 67, 0.3), 0px 1px 3px 1px rgba(60, 64, 67, 0.15);\n",
              "        fill: #174EA6;\n",
              "      }\n",
              "\n",
              "      [theme=dark] .colab-df-generate {\n",
              "        background-color: #3B4455;\n",
              "        fill: #D2E3FC;\n",
              "      }\n",
              "\n",
              "      [theme=dark] .colab-df-generate:hover {\n",
              "        background-color: #434B5C;\n",
              "        box-shadow: 0px 1px 3px 1px rgba(0, 0, 0, 0.15);\n",
              "        filter: drop-shadow(0px 1px 2px rgba(0, 0, 0, 0.3));\n",
              "        fill: #FFFFFF;\n",
              "      }\n",
              "    </style>\n",
              "    <button class=\"colab-df-generate\" onclick=\"generateWithVariable('lr_result')\"\n",
              "            title=\"Generate code using this dataframe.\"\n",
              "            style=\"display:none;\">\n",
              "\n",
              "  <svg xmlns=\"http://www.w3.org/2000/svg\" height=\"24px\"viewBox=\"0 0 24 24\"\n",
              "       width=\"24px\">\n",
              "    <path d=\"M7,19H8.4L18.45,9,17,7.55,7,17.6ZM5,21V16.75L18.45,3.32a2,2,0,0,1,2.83,0l1.4,1.43a1.91,1.91,0,0,1,.58,1.4,1.91,1.91,0,0,1-.58,1.4L9.25,21ZM18.45,9,17,7.55Zm-12,3A5.31,5.31,0,0,0,4.9,8.1,5.31,5.31,0,0,0,1,6.5,5.31,5.31,0,0,0,4.9,4.9,5.31,5.31,0,0,0,6.5,1,5.31,5.31,0,0,0,8.1,4.9,5.31,5.31,0,0,0,12,6.5,5.46,5.46,0,0,0,6.5,12Z\"/>\n",
              "  </svg>\n",
              "    </button>\n",
              "    <script>\n",
              "      (() => {\n",
              "      const buttonEl =\n",
              "        document.querySelector('#id_e712799d-8f75-4136-b7cf-fea0594f7f48 button.colab-df-generate');\n",
              "      buttonEl.style.display =\n",
              "        google.colab.kernel.accessAllowed ? 'block' : 'none';\n",
              "\n",
              "      buttonEl.onclick = () => {\n",
              "        google.colab.notebook.generateWithVariable('lr_result');\n",
              "      }\n",
              "      })();\n",
              "    </script>\n",
              "  </div>\n",
              "\n",
              "    </div>\n",
              "  </div>\n"
            ],
            "application/vnd.google.colaboratory.intrinsic+json": {
              "type": "dataframe",
              "variable_name": "lr_result",
              "summary": "{\n  \"name\": \"lr_result\",\n  \"rows\": 1,\n  \"fields\": [\n    {\n      \"column\": \"Model\",\n      \"properties\": {\n        \"dtype\": \"string\",\n        \"num_unique_values\": 1,\n        \"samples\": [\n          \"Linear Regression\"\n        ],\n        \"semantic_type\": \"\",\n        \"description\": \"\"\n      }\n    },\n    {\n      \"column\": \"Test MSE\",\n      \"properties\": {\n        \"dtype\": \"date\",\n        \"min\": 0.0675587107435994,\n        \"max\": 0.0675587107435994,\n        \"num_unique_values\": 1,\n        \"samples\": [\n          0.0675587107435994\n        ],\n        \"semantic_type\": \"\",\n        \"description\": \"\"\n      }\n    },\n    {\n      \"column\": \"Test R2\",\n      \"properties\": {\n        \"dtype\": \"date\",\n        \"min\": 0.6951007105990814,\n        \"max\": 0.6951007105990814,\n        \"num_unique_values\": 1,\n        \"samples\": [\n          0.6951007105990814\n        ],\n        \"semantic_type\": \"\",\n        \"description\": \"\"\n      }\n    },\n    {\n      \"column\": \"Train MSE\",\n      \"properties\": {\n        \"dtype\": \"date\",\n        \"min\": 0.06876407733203523,\n        \"max\": 0.06876407733203523,\n        \"num_unique_values\": 1,\n        \"samples\": [\n          0.06876407733203523\n        ],\n        \"semantic_type\": \"\",\n        \"description\": \"\"\n      }\n    },\n    {\n      \"column\": \"Train R2\",\n      \"properties\": {\n        \"dtype\": \"date\",\n        \"min\": 0.7003410819213387,\n        \"max\": 0.7003410819213387,\n        \"num_unique_values\": 1,\n        \"samples\": [\n          0.7003410819213387\n        ],\n        \"semantic_type\": \"\",\n        \"description\": \"\"\n      }\n    }\n  ]\n}"
            }
          },
          "metadata": {},
          "execution_count": 64
        }
      ]
    },
    {
      "cell_type": "markdown",
      "source": [
        "#Data visualization of prediction result"
      ],
      "metadata": {
        "id": "aB4n6mem0TtZ"
      }
    },
    {
      "cell_type": "code",
      "source": [
        "import matplotlib.pyplot as plt\n",
        "\n",
        "plt.figure(figsize=(5, 5))\n",
        "plt.scatter(y_train, y_train_pred, label='Training Data',c=\"#7CAE00\", alpha=0.3)\n",
        "\n",
        "z = np.polyfit(y_train, y_train_pred, 1)\n",
        "p = np.poly1d(z)\n",
        "plt.plot(y_train, p(y_train), \"r--\", label='Regression Line')\n",
        "\n",
        "\n",
        "plt.xlabel('Actual Prices')\n",
        "plt.ylabel('Predicted Prices')\n",
        "plt.title('Actual Prices vs. Predicted Prices')\n",
        "plt.show()"
      ],
      "metadata": {
        "colab": {
          "base_uri": "https://localhost:8080/",
          "height": 487
        },
        "id": "zKD9eZqRzoYb",
        "outputId": "db528f8e-74ce-47da-dc44-fe810e0f1b52"
      },
      "execution_count": null,
      "outputs": [
        {
          "output_type": "display_data",
          "data": {
            "text/plain": [
              "<Figure size 500x500 with 1 Axes>"
            ],
            "image/png": "[encoded data removed]"
          },
          "metadata": {}
        }
      ]
    },
    {
      "cell_type": "code",
      "source": [],
      "metadata": {
        "id": "x8Xrv7bm0gdT"
      },
      "execution_count": null,
      "outputs": []
    }
  ]
}